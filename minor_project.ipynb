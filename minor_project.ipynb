{
  "cells": [
    {
      "cell_type": "code",
      "execution_count": 1,
      "metadata": {
        "colab": {
          "base_uri": "https://localhost:8080/"
        },
        "id": "kuxkSYMYvD5Y",
        "outputId": "c2360455-3121-4cbc-ecf6-e81db679cc2c"
      },
      "outputs": [
        {
          "name": "stdout",
          "output_type": "stream",
          "text": [
            "zsh:1: /Users/ayushshekhar/Desktop/ML/DL/ml-env/bin/pip: bad interpreter: /Users/ayushshekhar/Desktop/ML/ml-env/bin/python3.11: no such file or directory\n",
            "Requirement already satisfied: python-binance in /Library/Frameworks/Python.framework/Versions/3.11/lib/python3.11/site-packages (1.0.19)\n",
            "Requirement already satisfied: pandas in /Library/Frameworks/Python.framework/Versions/3.11/lib/python3.11/site-packages (2.1.0)\n",
            "Requirement already satisfied: mplfinance in /Library/Frameworks/Python.framework/Versions/3.11/lib/python3.11/site-packages (0.12.10b0)\n",
            "Requirement already satisfied: requests in /Library/Frameworks/Python.framework/Versions/3.11/lib/python3.11/site-packages (from python-binance) (2.31.0)\n",
            "Requirement already satisfied: six in /Library/Frameworks/Python.framework/Versions/3.11/lib/python3.11/site-packages (from python-binance) (1.16.0)\n",
            "Requirement already satisfied: dateparser in /Library/Frameworks/Python.framework/Versions/3.11/lib/python3.11/site-packages (from python-binance) (1.1.8)\n",
            "Requirement already satisfied: aiohttp in /Library/Frameworks/Python.framework/Versions/3.11/lib/python3.11/site-packages (from python-binance) (3.8.5)\n",
            "Requirement already satisfied: ujson in /Library/Frameworks/Python.framework/Versions/3.11/lib/python3.11/site-packages (from python-binance) (5.8.0)\n",
            "Requirement already satisfied: websockets in /Library/Frameworks/Python.framework/Versions/3.11/lib/python3.11/site-packages (from python-binance) (11.0.3)\n",
            "Requirement already satisfied: pycryptodome in /Library/Frameworks/Python.framework/Versions/3.11/lib/python3.11/site-packages (from python-binance) (3.18.0)\n",
            "Requirement already satisfied: numpy>=1.23.2 in /Library/Frameworks/Python.framework/Versions/3.11/lib/python3.11/site-packages (from pandas) (1.25.2)\n",
            "Requirement already satisfied: python-dateutil>=2.8.2 in /Library/Frameworks/Python.framework/Versions/3.11/lib/python3.11/site-packages (from pandas) (2.8.2)\n",
            "Requirement already satisfied: pytz>=2020.1 in /Library/Frameworks/Python.framework/Versions/3.11/lib/python3.11/site-packages (from pandas) (2023.3.post1)\n",
            "Requirement already satisfied: tzdata>=2022.1 in /Library/Frameworks/Python.framework/Versions/3.11/lib/python3.11/site-packages (from pandas) (2023.3)\n",
            "Requirement already satisfied: matplotlib in /Library/Frameworks/Python.framework/Versions/3.11/lib/python3.11/site-packages (from mplfinance) (3.7.2)\n",
            "Requirement already satisfied: attrs>=17.3.0 in /Library/Frameworks/Python.framework/Versions/3.11/lib/python3.11/site-packages (from aiohttp->python-binance) (23.1.0)\n",
            "Requirement already satisfied: charset-normalizer<4.0,>=2.0 in /Library/Frameworks/Python.framework/Versions/3.11/lib/python3.11/site-packages (from aiohttp->python-binance) (3.2.0)\n",
            "Requirement already satisfied: multidict<7.0,>=4.5 in /Library/Frameworks/Python.framework/Versions/3.11/lib/python3.11/site-packages (from aiohttp->python-binance) (6.0.4)\n",
            "Requirement already satisfied: async-timeout<5.0,>=4.0.0a3 in /Library/Frameworks/Python.framework/Versions/3.11/lib/python3.11/site-packages (from aiohttp->python-binance) (4.0.3)\n",
            "Requirement already satisfied: yarl<2.0,>=1.0 in /Library/Frameworks/Python.framework/Versions/3.11/lib/python3.11/site-packages (from aiohttp->python-binance) (1.9.2)\n",
            "Requirement already satisfied: frozenlist>=1.1.1 in /Library/Frameworks/Python.framework/Versions/3.11/lib/python3.11/site-packages (from aiohttp->python-binance) (1.4.0)\n",
            "Requirement already satisfied: aiosignal>=1.1.2 in /Library/Frameworks/Python.framework/Versions/3.11/lib/python3.11/site-packages (from aiohttp->python-binance) (1.3.1)\n",
            "Requirement already satisfied: regex!=2019.02.19,!=2021.8.27 in /Library/Frameworks/Python.framework/Versions/3.11/lib/python3.11/site-packages (from dateparser->python-binance) (2023.8.8)\n",
            "Requirement already satisfied: tzlocal in /Library/Frameworks/Python.framework/Versions/3.11/lib/python3.11/site-packages (from dateparser->python-binance) (5.0.1)\n",
            "Requirement already satisfied: contourpy>=1.0.1 in /Library/Frameworks/Python.framework/Versions/3.11/lib/python3.11/site-packages (from matplotlib->mplfinance) (1.1.0)\n",
            "Requirement already satisfied: cycler>=0.10 in /Library/Frameworks/Python.framework/Versions/3.11/lib/python3.11/site-packages (from matplotlib->mplfinance) (0.11.0)\n",
            "Requirement already satisfied: fonttools>=4.22.0 in /Library/Frameworks/Python.framework/Versions/3.11/lib/python3.11/site-packages (from matplotlib->mplfinance) (4.42.1)\n",
            "Requirement already satisfied: kiwisolver>=1.0.1 in /Library/Frameworks/Python.framework/Versions/3.11/lib/python3.11/site-packages (from matplotlib->mplfinance) (1.4.5)\n",
            "Requirement already satisfied: packaging>=20.0 in /Library/Frameworks/Python.framework/Versions/3.11/lib/python3.11/site-packages (from matplotlib->mplfinance) (23.1)\n",
            "Requirement already satisfied: pillow>=6.2.0 in /Library/Frameworks/Python.framework/Versions/3.11/lib/python3.11/site-packages (from matplotlib->mplfinance) (10.0.0)\n",
            "Requirement already satisfied: pyparsing<3.1,>=2.3.1 in /Library/Frameworks/Python.framework/Versions/3.11/lib/python3.11/site-packages (from matplotlib->mplfinance) (3.0.9)\n",
            "Requirement already satisfied: idna<4,>=2.5 in /Library/Frameworks/Python.framework/Versions/3.11/lib/python3.11/site-packages (from requests->python-binance) (3.4)\n",
            "Requirement already satisfied: urllib3<3,>=1.21.1 in /Library/Frameworks/Python.framework/Versions/3.11/lib/python3.11/site-packages (from requests->python-binance) (2.0.4)\n",
            "Requirement already satisfied: certifi>=2017.4.17 in /Library/Frameworks/Python.framework/Versions/3.11/lib/python3.11/site-packages (from requests->python-binance) (2023.7.22)\n",
            "zsh:1: /Users/ayushshekhar/Desktop/ML/DL/ml-env/bin/pip: bad interpreter: /Users/ayushshekhar/Desktop/ML/ml-env/bin/python3.11: no such file or directory\n",
            "Requirement already satisfied: plotly in /Library/Frameworks/Python.framework/Versions/3.11/lib/python3.11/site-packages (5.16.1)\n",
            "Requirement already satisfied: tenacity>=6.2.0 in /Library/Frameworks/Python.framework/Versions/3.11/lib/python3.11/site-packages (from plotly) (8.2.3)\n",
            "Requirement already satisfied: packaging in /Library/Frameworks/Python.framework/Versions/3.11/lib/python3.11/site-packages (from plotly) (23.1)\n",
            "zsh:1: /Users/ayushshekhar/Desktop/ML/DL/ml-env/bin/pip: bad interpreter: /Users/ayushshekhar/Desktop/ML/ml-env/bin/python3.11: no such file or directory\n",
            "Requirement already satisfied: yfinance in /Library/Frameworks/Python.framework/Versions/3.11/lib/python3.11/site-packages (0.2.28)\n",
            "Requirement already satisfied: pandas>=1.3.0 in /Library/Frameworks/Python.framework/Versions/3.11/lib/python3.11/site-packages (from yfinance) (2.1.0)\n",
            "Requirement already satisfied: numpy>=1.16.5 in /Library/Frameworks/Python.framework/Versions/3.11/lib/python3.11/site-packages (from yfinance) (1.25.2)\n",
            "Requirement already satisfied: requests>=2.31 in /Library/Frameworks/Python.framework/Versions/3.11/lib/python3.11/site-packages (from yfinance) (2.31.0)\n",
            "Requirement already satisfied: multitasking>=0.0.7 in /Library/Frameworks/Python.framework/Versions/3.11/lib/python3.11/site-packages (from yfinance) (0.0.11)\n",
            "Requirement already satisfied: lxml>=4.9.1 in /Library/Frameworks/Python.framework/Versions/3.11/lib/python3.11/site-packages (from yfinance) (4.9.3)\n",
            "Requirement already satisfied: appdirs>=1.4.4 in /Library/Frameworks/Python.framework/Versions/3.11/lib/python3.11/site-packages (from yfinance) (1.4.4)\n",
            "Requirement already satisfied: pytz>=2022.5 in /Library/Frameworks/Python.framework/Versions/3.11/lib/python3.11/site-packages (from yfinance) (2023.3.post1)\n",
            "Requirement already satisfied: frozendict>=2.3.4 in /Library/Frameworks/Python.framework/Versions/3.11/lib/python3.11/site-packages (from yfinance) (2.3.8)\n",
            "Requirement already satisfied: beautifulsoup4>=4.11.1 in /Library/Frameworks/Python.framework/Versions/3.11/lib/python3.11/site-packages (from yfinance) (4.12.2)\n",
            "Requirement already satisfied: html5lib>=1.1 in /Library/Frameworks/Python.framework/Versions/3.11/lib/python3.11/site-packages (from yfinance) (1.1)\n",
            "Requirement already satisfied: soupsieve>1.2 in /Library/Frameworks/Python.framework/Versions/3.11/lib/python3.11/site-packages (from beautifulsoup4>=4.11.1->yfinance) (2.5)\n",
            "Requirement already satisfied: six>=1.9 in /Library/Frameworks/Python.framework/Versions/3.11/lib/python3.11/site-packages (from html5lib>=1.1->yfinance) (1.16.0)\n",
            "Requirement already satisfied: webencodings in /Library/Frameworks/Python.framework/Versions/3.11/lib/python3.11/site-packages (from html5lib>=1.1->yfinance) (0.5.1)\n",
            "Requirement already satisfied: python-dateutil>=2.8.2 in /Library/Frameworks/Python.framework/Versions/3.11/lib/python3.11/site-packages (from pandas>=1.3.0->yfinance) (2.8.2)\n",
            "Requirement already satisfied: tzdata>=2022.1 in /Library/Frameworks/Python.framework/Versions/3.11/lib/python3.11/site-packages (from pandas>=1.3.0->yfinance) (2023.3)\n",
            "Requirement already satisfied: charset-normalizer<4,>=2 in /Library/Frameworks/Python.framework/Versions/3.11/lib/python3.11/site-packages (from requests>=2.31->yfinance) (3.2.0)\n",
            "Requirement already satisfied: idna<4,>=2.5 in /Library/Frameworks/Python.framework/Versions/3.11/lib/python3.11/site-packages (from requests>=2.31->yfinance) (3.4)\n",
            "Requirement already satisfied: urllib3<3,>=1.21.1 in /Library/Frameworks/Python.framework/Versions/3.11/lib/python3.11/site-packages (from requests>=2.31->yfinance) (2.0.4)\n",
            "Requirement already satisfied: certifi>=2017.4.17 in /Library/Frameworks/Python.framework/Versions/3.11/lib/python3.11/site-packages (from requests>=2.31->yfinance) (2023.7.22)\n"
          ]
        }
      ],
      "source": [
        " !pip install python-binance pandas mplfinance\n",
        "!pip install plotly\n",
        "!pip install yfinance\n"
      ]
    },
    {
      "cell_type": "code",
      "execution_count": 3,
      "metadata": {
        "id": "eYX7MHoIvKsg"
      },
      "outputs": [],
      "source": [
        "import matplotlib.pyplot as plt\n",
        "import pandas as pd\n",
        "import numpy as np\n",
        "\n",
        "import seaborn as sns\n",
        "import plotly.graph_objs as go\n",
        "from datetime import datetime\n",
        "\n",
        "\n",
        "from sklearn.ensemble import RandomForestRegressor\n",
        "from sklearn.metrics import mean_squared_error\n",
        "from sklearn.model_selection import train_test_split\n",
        "from sklearn.preprocessing import StandardScaler"
      ]
    },
    {
      "cell_type": "code",
      "execution_count": 4,
      "metadata": {},
      "outputs": [
        {
          "ename": "ImportError",
          "evalue": "cannot import name 'check_ansix923_padding' from 'cryptography.hazmat.bindings._rust' (unknown location)",
          "output_type": "error",
          "traceback": [
            "\u001b[0;31m---------------------------------------------------------------------------\u001b[0m",
            "\u001b[0;31mImportError\u001b[0m                               Traceback (most recent call last)",
            "Cell \u001b[0;32mIn[4], line 1\u001b[0m\n\u001b[0;32m----> 1\u001b[0m \u001b[39mimport\u001b[39;00m \u001b[39myfinance\u001b[39;00m \u001b[39mas\u001b[39;00m \u001b[39myf\u001b[39;00m\n",
            "File \u001b[0;32m~/Desktop/ML/DL/ml-env/lib/python3.11/site-packages/yfinance/__init__.py:23\u001b[0m\n\u001b[1;32m      1\u001b[0m \u001b[39m#!/usr/bin/env python\u001b[39;00m\n\u001b[1;32m      2\u001b[0m \u001b[39m# -*- coding: utf-8 -*-\u001b[39;00m\n\u001b[1;32m      3\u001b[0m \u001b[39m#\u001b[39;00m\n\u001b[0;32m   (...)\u001b[0m\n\u001b[1;32m     19\u001b[0m \u001b[39m# limitations under the License.\u001b[39;00m\n\u001b[1;32m     20\u001b[0m \u001b[39m#\u001b[39;00m\n\u001b[1;32m     22\u001b[0m \u001b[39mfrom\u001b[39;00m \u001b[39m.\u001b[39;00m \u001b[39mimport\u001b[39;00m version\n\u001b[0;32m---> 23\u001b[0m \u001b[39mfrom\u001b[39;00m \u001b[39m.\u001b[39;00m\u001b[39mticker\u001b[39;00m \u001b[39mimport\u001b[39;00m Ticker\n\u001b[1;32m     24\u001b[0m \u001b[39mfrom\u001b[39;00m \u001b[39m.\u001b[39;00m\u001b[39mtickers\u001b[39;00m \u001b[39mimport\u001b[39;00m Tickers\n\u001b[1;32m     25\u001b[0m \u001b[39mfrom\u001b[39;00m \u001b[39m.\u001b[39;00m\u001b[39mmulti\u001b[39;00m \u001b[39mimport\u001b[39;00m download\n",
            "File \u001b[0;32m~/Desktop/ML/DL/ml-env/lib/python3.11/site-packages/yfinance/ticker.py:29\u001b[0m\n\u001b[1;32m     25\u001b[0m \u001b[39mimport\u001b[39;00m \u001b[39mpandas\u001b[39;00m \u001b[39mas\u001b[39;00m \u001b[39m_pd\u001b[39;00m\n\u001b[1;32m     27\u001b[0m \u001b[39mfrom\u001b[39;00m \u001b[39mcollections\u001b[39;00m \u001b[39mimport\u001b[39;00m namedtuple \u001b[39mas\u001b[39;00m _namedtuple\n\u001b[0;32m---> 29\u001b[0m \u001b[39mfrom\u001b[39;00m \u001b[39m.\u001b[39;00m\u001b[39mbase\u001b[39;00m \u001b[39mimport\u001b[39;00m TickerBase\n\u001b[1;32m     32\u001b[0m \u001b[39mclass\u001b[39;00m \u001b[39mTicker\u001b[39;00m(TickerBase):\n\u001b[1;32m     33\u001b[0m     \u001b[39mdef\u001b[39;00m \u001b[39m__init__\u001b[39m(\u001b[39mself\u001b[39m, ticker, session\u001b[39m=\u001b[39m\u001b[39mNone\u001b[39;00m):\n",
            "File \u001b[0;32m~/Desktop/ML/DL/ml-env/lib/python3.11/site-packages/yfinance/base.py:33\u001b[0m\n\u001b[1;32m     30\u001b[0m \u001b[39mimport\u001b[39;00m \u001b[39mnumpy\u001b[39;00m \u001b[39mas\u001b[39;00m \u001b[39m_np\u001b[39;00m\n\u001b[1;32m     31\u001b[0m \u001b[39mimport\u001b[39;00m \u001b[39mpandas\u001b[39;00m \u001b[39mas\u001b[39;00m \u001b[39mpd\u001b[39;00m\n\u001b[0;32m---> 33\u001b[0m \u001b[39mfrom\u001b[39;00m \u001b[39m.\u001b[39;00m\u001b[39mdata\u001b[39;00m \u001b[39mimport\u001b[39;00m TickerData\n\u001b[1;32m     35\u001b[0m \u001b[39mfrom\u001b[39;00m \u001b[39murllib\u001b[39;00m\u001b[39m.\u001b[39;00m\u001b[39mparse\u001b[39;00m \u001b[39mimport\u001b[39;00m quote \u001b[39mas\u001b[39;00m urlencode\n\u001b[1;32m     37\u001b[0m \u001b[39mfrom\u001b[39;00m \u001b[39m.\u001b[39;00m \u001b[39mimport\u001b[39;00m utils\n",
            "File \u001b[0;32m~/Desktop/ML/DL/ml-env/lib/python3.11/site-packages/yfinance/data.py:12\u001b[0m\n\u001b[1;32m     10\u001b[0m     \u001b[39mfrom\u001b[39;00m \u001b[39mCrypto\u001b[39;00m\u001b[39m.\u001b[39;00m\u001b[39mUtil\u001b[39;00m\u001b[39m.\u001b[39;00m\u001b[39mPadding\u001b[39;00m \u001b[39mimport\u001b[39;00m unpad\n\u001b[1;32m     11\u001b[0m \u001b[39melse\u001b[39;00m:\n\u001b[0;32m---> 12\u001b[0m     \u001b[39mfrom\u001b[39;00m \u001b[39mcryptography\u001b[39;00m\u001b[39m.\u001b[39;00m\u001b[39mhazmat\u001b[39;00m\u001b[39m.\u001b[39;00m\u001b[39mprimitives\u001b[39;00m \u001b[39mimport\u001b[39;00m padding\n\u001b[1;32m     13\u001b[0m     \u001b[39mfrom\u001b[39;00m \u001b[39mcryptography\u001b[39;00m\u001b[39m.\u001b[39;00m\u001b[39mhazmat\u001b[39;00m\u001b[39m.\u001b[39;00m\u001b[39mprimitives\u001b[39;00m\u001b[39m.\u001b[39;00m\u001b[39mciphers\u001b[39;00m \u001b[39mimport\u001b[39;00m Cipher, algorithms, modes\n\u001b[1;32m     15\u001b[0m \u001b[39mimport\u001b[39;00m \u001b[39mrequests\u001b[39;00m \u001b[39mas\u001b[39;00m \u001b[39mrequests\u001b[39;00m\n",
            "File \u001b[0;32m~/Desktop/ML/DL/ml-env/lib/python3.11/site-packages/cryptography/hazmat/primitives/padding.py:11\u001b[0m\n\u001b[1;32m      9\u001b[0m \u001b[39mfrom\u001b[39;00m \u001b[39mcryptography\u001b[39;00m \u001b[39mimport\u001b[39;00m utils\n\u001b[1;32m     10\u001b[0m \u001b[39mfrom\u001b[39;00m \u001b[39mcryptography\u001b[39;00m\u001b[39m.\u001b[39;00m\u001b[39mexceptions\u001b[39;00m \u001b[39mimport\u001b[39;00m AlreadyFinalized\n\u001b[0;32m---> 11\u001b[0m \u001b[39mfrom\u001b[39;00m \u001b[39mcryptography\u001b[39;00m\u001b[39m.\u001b[39;00m\u001b[39mhazmat\u001b[39;00m\u001b[39m.\u001b[39;00m\u001b[39mbindings\u001b[39;00m\u001b[39m.\u001b[39;00m\u001b[39m_rust\u001b[39;00m \u001b[39mimport\u001b[39;00m (\n\u001b[1;32m     12\u001b[0m     check_ansix923_padding,\n\u001b[1;32m     13\u001b[0m     check_pkcs7_padding,\n\u001b[1;32m     14\u001b[0m )\n\u001b[1;32m     17\u001b[0m \u001b[39mclass\u001b[39;00m \u001b[39mPaddingContext\u001b[39;00m(metaclass\u001b[39m=\u001b[39mabc\u001b[39m.\u001b[39mABCMeta):\n\u001b[1;32m     18\u001b[0m     \u001b[39m@abc\u001b[39m\u001b[39m.\u001b[39mabstractmethod\n\u001b[1;32m     19\u001b[0m     \u001b[39mdef\u001b[39;00m \u001b[39mupdate\u001b[39m(\u001b[39mself\u001b[39m, data: \u001b[39mbytes\u001b[39m) \u001b[39m-\u001b[39m\u001b[39m>\u001b[39m \u001b[39mbytes\u001b[39m:\n",
            "\u001b[0;31mImportError\u001b[0m: cannot import name 'check_ansix923_padding' from 'cryptography.hazmat.bindings._rust' (unknown location)"
          ]
        }
      ],
      "source": [
        "import yfinance as yf"
      ]
    },
    {
      "cell_type": "code",
      "execution_count": 3,
      "metadata": {
        "colab": {
          "base_uri": "https://localhost:8080/"
        },
        "id": "kfmPHEkGDxCP",
        "outputId": "cb446064-ff83-4b4e-e1eb-197595ee01f7"
      },
      "outputs": [
        {
          "name": "stdout",
          "output_type": "stream",
          "text": [
            "[*********************100%***********************]  1 of 1 completed\n"
          ]
        }
      ],
      "source": [
        "data = yf.download(tickers='BTC-USD', period = '365d', interval = '1d')\n",
        "data = data.reset_index()\n",
        "\n"
      ]
    },
    {
      "cell_type": "code",
      "execution_count": 4,
      "metadata": {
        "colab": {
          "base_uri": "https://localhost:8080/",
          "height": 542
        },
        "id": "9uxAIP1EpUGo",
        "outputId": "8b26d7eb-413f-416a-8fbc-3cdd379cf995"
      },
      "outputs": [
        {
          "data": {
            "application/vnd.plotly.v1+json": {
              "config": {
                "plotlyServerURL": "https://plot.ly"
              },
              "data": [
                {
                  "close": [
                    21395.01953125,
                    21600.904296875,
                    20260.01953125,
                    20041.73828125,
                    19616.814453125,
                    20297.994140625,
                    19796.80859375,
                    20049.763671875,
                    20127.140625,
                    19969.771484375,
                    19832.087890625,
                    19986.712890625,
                    19812.37109375,
                    18837.66796875,
                    19290.32421875,
                    19329.833984375,
                    21381.15234375,
                    21680.5390625,
                    21769.255859375,
                    22370.44921875,
                    20296.70703125,
                    20241.08984375,
                    19701.2109375,
                    19772.583984375,
                    20127.576171875,
                    19419.505859375,
                    19544.12890625,
                    18890.7890625,
                    18547.400390625,
                    19413.55078125,
                    19297.638671875,
                    18937.01171875,
                    18802.09765625,
                    19222.671875,
                    19110.546875,
                    19426.720703125,
                    19573.05078125,
                    19431.7890625,
                    19312.095703125,
                    19044.107421875,
                    19623.580078125,
                    20336.84375,
                    20160.716796875,
                    19955.443359375,
                    19546.849609375,
                    19416.568359375,
                    19446.42578125,
                    19141.484375,
                    19051.41796875,
                    19157.4453125,
                    19382.904296875,
                    19185.65625,
                    19067.634765625,
                    19268.09375,
                    19550.7578125,
                    19334.416015625,
                    19139.53515625,
                    19053.740234375,
                    19172.46875,
                    19208.189453125,
                    19567.0078125,
                    19345.572265625,
                    20095.857421875,
                    20770.44140625,
                    20285.8359375,
                    20595.3515625,
                    20818.4765625,
                    20635.603515625,
                    20495.7734375,
                    20485.2734375,
                    20159.50390625,
                    20209.98828125,
                    21147.23046875,
                    21282.69140625,
                    20926.486328125,
                    20602.81640625,
                    18541.271484375,
                    15880.7802734375,
                    17586.771484375,
                    17034.29296875,
                    16799.185546875,
                    16353.365234375,
                    16618.19921875,
                    16884.61328125,
                    16669.439453125,
                    16687.517578125,
                    16697.77734375,
                    16711.546875,
                    16291.83203125,
                    15787.2841796875,
                    16189.76953125,
                    16610.70703125,
                    16604.46484375,
                    16521.841796875,
                    16464.28125,
                    16444.626953125,
                    16217.322265625,
                    16444.982421875,
                    17168.56640625,
                    16967.1328125,
                    17088.66015625,
                    16908.236328125,
                    17130.486328125,
                    16974.826171875,
                    17089.50390625,
                    16848.126953125,
                    17233.474609375,
                    17133.15234375,
                    17128.724609375,
                    17104.193359375,
                    17206.4375,
                    17781.318359375,
                    17815.650390625,
                    17364.865234375,
                    16647.484375,
                    16795.091796875,
                    16757.9765625,
                    16439.6796875,
                    16906.3046875,
                    16817.53515625,
                    16830.341796875,
                    16796.953125,
                    16847.755859375,
                    16841.986328125,
                    16919.8046875,
                    16717.173828125,
                    16552.572265625,
                    16642.341796875,
                    16602.5859375,
                    16547.49609375,
                    16625.080078125,
                    16688.470703125,
                    16679.857421875,
                    16863.23828125,
                    16836.736328125,
                    16951.96875,
                    16955.078125,
                    17091.14453125,
                    17196.5546875,
                    17446.29296875,
                    17934.896484375,
                    18869.587890625,
                    19909.57421875,
                    20976.298828125,
                    20880.798828125,
                    21169.6328125,
                    21161.51953125,
                    20688.78125,
                    21086.79296875,
                    22676.552734375,
                    22777.625,
                    22720.416015625,
                    22934.431640625,
                    22636.46875,
                    23117.859375,
                    23032.77734375,
                    23078.728515625,
                    23031.08984375,
                    23774.56640625,
                    22840.138671875,
                    23139.283203125,
                    23723.76953125,
                    23471.87109375,
                    23449.322265625,
                    23331.84765625,
                    22955.666015625,
                    22760.109375,
                    23264.291015625,
                    22939.3984375,
                    21819.0390625,
                    21651.18359375,
                    21870.875,
                    21788.203125,
                    21808.1015625,
                    22220.8046875,
                    24307.841796875,
                    23623.474609375,
                    24565.6015625,
                    24641.27734375,
                    24327.642578125,
                    24829.1484375,
                    24436.353515625,
                    24188.84375,
                    23947.4921875,
                    23198.126953125,
                    23175.375,
                    23561.212890625,
                    23522.87109375,
                    23147.353515625,
                    23646.55078125,
                    23475.466796875,
                    22362.6796875,
                    22353.349609375,
                    22435.513671875,
                    22429.7578125,
                    22219.76953125,
                    21718.080078125,
                    20363.021484375,
                    20187.244140625,
                    20632.41015625,
                    22163.94921875,
                    24197.533203125,
                    24746.07421875,
                    24375.9609375,
                    25052.7890625,
                    27423.9296875,
                    26965.87890625,
                    28038.67578125,
                    27767.236328125,
                    28175.81640625,
                    27307.4375,
                    28333.97265625,
                    27493.28515625,
                    27494.70703125,
                    27994.330078125,
                    27139.888671875,
                    27268.130859375,
                    28348.44140625,
                    28033.5625,
                    28478.484375,
                    28411.03515625,
                    28199.30859375,
                    27790.220703125,
                    28168.08984375,
                    28177.984375,
                    28044.140625,
                    27925.859375,
                    27947.794921875,
                    28333.05078125,
                    29652.98046875,
                    30235.05859375,
                    30139.052734375,
                    30399.06640625,
                    30485.69921875,
                    30318.49609375,
                    30315.35546875,
                    29445.044921875,
                    30397.552734375,
                    28822.6796875,
                    28245.98828125,
                    27276.91015625,
                    27817.5,
                    27591.384765625,
                    27525.33984375,
                    28307.59765625,
                    28422.701171875,
                    29473.787109375,
                    29340.26171875,
                    29248.48828125,
                    29268.806640625,
                    28091.568359375,
                    28680.537109375,
                    29006.30859375,
                    28847.7109375,
                    29534.384765625,
                    28904.623046875,
                    28454.978515625,
                    27694.2734375,
                    27658.775390625,
                    27621.755859375,
                    27000.7890625,
                    26804.990234375,
                    26784.078125,
                    26930.638671875,
                    27192.693359375,
                    27036.650390625,
                    27398.802734375,
                    26832.208984375,
                    26890.12890625,
                    27129.5859375,
                    26753.826171875,
                    26851.27734375,
                    27225.7265625,
                    26334.818359375,
                    26476.20703125,
                    26719.291015625,
                    26868.353515625,
                    28085.646484375,
                    27745.884765625,
                    27702.349609375,
                    27219.658203125,
                    26819.97265625,
                    27249.58984375,
                    27075.12890625,
                    27119.06640625,
                    25760.09765625,
                    27238.783203125,
                    26345.998046875,
                    26508.216796875,
                    26480.375,
                    25851.240234375,
                    25940.16796875,
                    25902.5,
                    25918.728515625,
                    25124.67578125,
                    25576.39453125,
                    26327.462890625,
                    26510.67578125,
                    26336.212890625,
                    26851.029296875,
                    28327.48828125,
                    30027.296875,
                    29912.28125,
                    30695.46875,
                    30548.6953125,
                    30480.26171875,
                    30271.130859375,
                    30688.1640625,
                    30086.24609375,
                    30445.3515625,
                    30477.251953125,
                    30590.078125,
                    30620.76953125,
                    31156.439453125,
                    30777.58203125,
                    30514.166015625,
                    29909.337890625,
                    30342.265625,
                    30292.541015625,
                    30171.234375,
                    30414.470703125,
                    30620.951171875,
                    30391.646484375,
                    31476.048828125,
                    30334.068359375,
                    30295.806640625,
                    30249.1328125,
                    30145.888671875,
                    29856.5625,
                    29913.923828125,
                    29792.015625,
                    29908.744140625,
                    29771.802734375,
                    30084.5390625,
                    29176.916015625,
                    29227.390625,
                    29354.97265625,
                    29210.689453125,
                    29319.24609375,
                    29356.91796875,
                    29275.30859375,
                    29230.111328125,
                    29675.732421875,
                    29151.958984375,
                    29178.6796875,
                    29074.091796875,
                    29042.126953125,
                    29041.85546875,
                    29180.578125,
                    29765.4921875,
                    29561.494140625,
                    29429.591796875,
                    29397.71484375,
                    29415.96484375,
                    29282.9140625,
                    29408.443359375,
                    29170.34765625,
                    28701.779296875,
                    26664.55078125,
                    26049.556640625,
                    26096.205078125,
                    26189.583984375,
                    26124.140625,
                    26031.65625,
                    26024.2421875
                  ],
                  "high": [
                    21783.076171875,
                    21789.63671875,
                    21804.908203125,
                    20340.775390625,
                    20139.0546875,
                    20357.462890625,
                    20542.64453125,
                    20420.990234375,
                    20198.390625,
                    20401.568359375,
                    20037.009765625,
                    19999.689453125,
                    20031.16015625,
                    20155.26953125,
                    19427.171875,
                    19417.3515625,
                    21439.41015625,
                    21760.275390625,
                    21770.552734375,
                    22439.181640625,
                    22673.8203125,
                    20467.201171875,
                    20318.166015625,
                    19870.62890625,
                    20162.53125,
                    20127.234375,
                    19639.48046875,
                    19602.45703125,
                    19674.630859375,
                    19456.91015625,
                    19464.671875,
                    19310.197265625,
                    19134.732421875,
                    19274.873046875,
                    20338.455078125,
                    19688.34375,
                    19589.265625,
                    20109.849609375,
                    19471.154296875,
                    19370.30859375,
                    19653.54296875,
                    20380.34375,
                    20343.748046875,
                    20408.392578125,
                    20041.0859375,
                    19601.6953125,
                    19542.5390625,
                    19515.466796875,
                    19241.9609375,
                    19203.19921875,
                    19453.328125,
                    19889.146484375,
                    19212.541015625,
                    19389.603515625,
                    19635.802734375,
                    19666.994140625,
                    19348.416015625,
                    19315.19921875,
                    19237.384765625,
                    19248.068359375,
                    19646.65234375,
                    19589.125,
                    20348.412109375,
                    20938.134765625,
                    20854.044921875,
                    20724.98046875,
                    20988.39453125,
                    20917.005859375,
                    20795.3203125,
                    20647.2890625,
                    20742.810546875,
                    20382.095703125,
                    21209.560546875,
                    21446.88671875,
                    21345.376953125,
                    21053.24609375,
                    20664.607421875,
                    18590.458984375,
                    18054.3125,
                    17650.943359375,
                    17066.67578125,
                    16920.765625,
                    17109.32421875,
                    17051.962890625,
                    16960.294921875,
                    16726.439453125,
                    16947.05859375,
                    16797.876953125,
                    16746.779296875,
                    16291.2236328125,
                    16253.0478515625,
                    16638.193359375,
                    16771.474609375,
                    16603.31640625,
                    16666.86328125,
                    16594.40625,
                    16482.93359375,
                    16522.2578125,
                    17190.9375,
                    17197.498046875,
                    17088.66015625,
                    17116.041015625,
                    17157.767578125,
                    17378.15234375,
                    17091.86328125,
                    17109.376953125,
                    17267.916015625,
                    17280.546875,
                    17216.826171875,
                    17245.634765625,
                    17212.564453125,
                    17930.0859375,
                    18318.53125,
                    17846.744140625,
                    17505.525390625,
                    16800.58984375,
                    16815.38671875,
                    16807.52734375,
                    17012.984375,
                    16916.80078125,
                    16866.673828125,
                    16905.21875,
                    16864.703125,
                    16860.5546875,
                    16920.123046875,
                    16959.845703125,
                    16768.169921875,
                    16651.755859375,
                    16643.427734375,
                    16628.986328125,
                    16630.439453125,
                    16759.34375,
                    16760.447265625,
                    16964.5859375,
                    16884.021484375,
                    16991.994140625,
                    16975.017578125,
                    17091.14453125,
                    17389.95703125,
                    17484.720703125,
                    17934.896484375,
                    19030.087890625,
                    19964.322265625,
                    21075.142578125,
                    20993.748046875,
                    21360.875,
                    21438.66015625,
                    21564.501953125,
                    21163.01171875,
                    22692.357421875,
                    23282.34765625,
                    23056.73046875,
                    23126.486328125,
                    23134.01171875,
                    23722.099609375,
                    23237.078125,
                    23417.720703125,
                    23165.896484375,
                    23919.890625,
                    23789.34765625,
                    23225.021484375,
                    23764.5390625,
                    24167.2109375,
                    23678.103515625,
                    23556.94921875,
                    23423.435546875,
                    23119.279296875,
                    23310.974609375,
                    23367.958984375,
                    22996.4375,
                    21941.185546875,
                    21891.41015625,
                    22060.994140625,
                    21898.4140625,
                    22293.140625,
                    24307.841796875,
                    25134.1171875,
                    24924.041015625,
                    24798.8359375,
                    25093.0546875,
                    25020.458984375,
                    25126.8515625,
                    24472.33984375,
                    24572.08984375,
                    24103.705078125,
                    23210.2109375,
                    23654.3671875,
                    23857.890625,
                    23585.384765625,
                    23880.6328125,
                    23739.138671875,
                    23479.34765625,
                    22405.177734375,
                    22613.685546875,
                    22584.29296875,
                    22527.41796875,
                    22268.896484375,
                    21802.716796875,
                    20370.595703125,
                    20792.525390625,
                    22185.03125,
                    24550.837890625,
                    26514.716796875,
                    25240.615234375,
                    25190.326171875,
                    27787.8125,
                    27725.953125,
                    28440.560546875,
                    28527.724609375,
                    28439.5625,
                    28803.3359375,
                    28729.84375,
                    28388.4375,
                    27791.826171875,
                    28178.14453125,
                    28037.92578125,
                    27460.71875,
                    28619.54296875,
                    29159.90234375,
                    28639.896484375,
                    28802.45703125,
                    28518.958984375,
                    28475.623046875,
                    28433.7421875,
                    28739.23828125,
                    28178.384765625,
                    28111.59375,
                    28159.86328125,
                    28532.830078125,
                    29771.46484375,
                    30509.083984375,
                    30462.48046875,
                    30539.845703125,
                    31005.607421875,
                    30601.740234375,
                    30555.537109375,
                    30319.197265625,
                    30470.302734375,
                    30411.0546875,
                    29076.400390625,
                    28349.96875,
                    27872.142578125,
                    27820.244140625,
                    27979.982421875,
                    28371.078125,
                    29995.837890625,
                    29871.546875,
                    29572.791015625,
                    29452.455078125,
                    29952.029296875,
                    29329.935546875,
                    28881.298828125,
                    29259.533203125,
                    29353.185546875,
                    29668.908203125,
                    29820.126953125,
                    29157.517578125,
                    28663.271484375,
                    27821.400390625,
                    28322.6875,
                    27621.94140625,
                    27055.646484375,
                    27030.482421875,
                    27150.9765625,
                    27646.34765625,
                    27299.3046875,
                    27465.927734375,
                    27466.52734375,
                    27128.619140625,
                    27155.158203125,
                    27265.91796875,
                    27045.734375,
                    27434.68359375,
                    27224.603515625,
                    26591.51953125,
                    26916.669921875,
                    26888.8828125,
                    28193.44921875,
                    28432.0390625,
                    28044.759765625,
                    27831.677734375,
                    27346.10546875,
                    27303.861328125,
                    27317.052734375,
                    27407.01953125,
                    27129.982421875,
                    27313.8203125,
                    27332.181640625,
                    26797.513671875,
                    26770.2890625,
                    26531.044921875,
                    26203.439453125,
                    26087.919921875,
                    26376.3515625,
                    26041.80078125,
                    25735.30859375,
                    26463.173828125,
                    26769.39453125,
                    26675.92578125,
                    26984.611328125,
                    28388.96875,
                    30737.330078125,
                    30495.998046875,
                    31389.5390625,
                    30804.1484375,
                    31041.271484375,
                    30636.029296875,
                    31006.787109375,
                    30703.279296875,
                    30796.25,
                    31256.86328125,
                    30641.2890625,
                    30766.140625,
                    31375.61328125,
                    31325.197265625,
                    30877.330078125,
                    31460.052734375,
                    30434.64453125,
                    30374.4375,
                    30427.58984375,
                    31026.083984375,
                    30788.314453125,
                    30959.96484375,
                    31814.515625,
                    31582.25390625,
                    30407.78125,
                    30437.560546875,
                    30336.400390625,
                    30233.65625,
                    30184.181640625,
                    30195.53125,
                    30045.998046875,
                    29991.615234375,
                    30330.640625,
                    30093.39453125,
                    29353.16015625,
                    29675.552734375,
                    29560.966796875,
                    29521.513671875,
                    29396.84375,
                    29443.169921875,
                    29489.873046875,
                    29675.732421875,
                    29987.998046875,
                    29375.70703125,
                    29302.078125,
                    29102.46484375,
                    29160.822265625,
                    29244.28125,
                    30176.796875,
                    30093.435546875,
                    29688.564453125,
                    29517.7734375,
                    29465.11328125,
                    29441.43359375,
                    29660.25390625,
                    29439.12109375,
                    29221.9765625,
                    28745.947265625,
                    26808.1953125,
                    26249.44921875,
                    26260.681640625,
                    26220.201171875,
                    26135.5078125,
                    26143.34375
                  ],
                  "low": [
                    21195.005859375,
                    21362.44140625,
                    20199.482421875,
                    19890.5234375,
                    19616.814453125,
                    19600.78515625,
                    19617.640625,
                    19799.58203125,
                    19653.96875,
                    19814.765625,
                    19698.35546875,
                    19636.81640625,
                    19673.046875,
                    18800.171875,
                    18644.466796875,
                    19076.71484375,
                    19310.962890625,
                    21168.72265625,
                    21406.9453125,
                    21603.896484375,
                    20062.669921875,
                    19793.396484375,
                    19636.734375,
                    19400.076171875,
                    19777.033203125,
                    19387.4921875,
                    18390.318359375,
                    18813.455078125,
                    18290.314453125,
                    18415.591796875,
                    18617.552734375,
                    18861.974609375,
                    18696.46875,
                    18721.28515625,
                    18915.66796875,
                    18553.296875,
                    18924.353515625,
                    19265.662109375,
                    19231.08203125,
                    18970.62109375,
                    19025.2265625,
                    19523.83984375,
                    19801.80078125,
                    19900.087890625,
                    19395.79296875,
                    19299.4140625,
                    19349.259765625,
                    19102.978515625,
                    18925.603515625,
                    19029.7578125,
                    18319.822265625,
                    19115.408203125,
                    19019.25,
                    19068.9140625,
                    19173.333984375,
                    19144.76953125,
                    19127.6875,
                    18971.458984375,
                    18770.970703125,
                    19132.244140625,
                    19124.197265625,
                    19206.32421875,
                    19261.447265625,
                    20076.1171875,
                    20255.373046875,
                    20086.068359375,
                    20566.484375,
                    20547.462890625,
                    20287.458984375,
                    20359.845703125,
                    20087.134765625,
                    20086.240234375,
                    20188.01953125,
                    21097.634765625,
                    20920.19140625,
                    20489.97265625,
                    17603.544921875,
                    15682.6923828125,
                    15834.0185546875,
                    16543.482421875,
                    16651.775390625,
                    16320.634765625,
                    15872.94140625,
                    16542.55078125,
                    16430.111328125,
                    16460.68359375,
                    16564.611328125,
                    16570.41015625,
                    16248.6923828125,
                    15599.046875,
                    15656.6064453125,
                    16170.5029296875,
                    16501.767578125,
                    16388.404296875,
                    16416.228515625,
                    16437.025390625,
                    16054.5302734375,
                    16139.396484375,
                    16445.4765625,
                    16888.388671875,
                    16877.880859375,
                    16888.140625,
                    16903.439453125,
                    16922.431640625,
                    16939.921875,
                    16750.55859375,
                    16788.783203125,
                    17100.8359375,
                    17120.68359375,
                    17091.8203125,
                    16899.39453125,
                    17111.763671875,
                    17739.513671875,
                    17322.58984375,
                    16584.701171875,
                    16614.029296875,
                    16697.8203125,
                    16398.13671875,
                    16427.8671875,
                    16755.912109375,
                    16592.408203125,
                    16794.458984375,
                    16793.52734375,
                    16755.25390625,
                    16812.369140625,
                    16642.072265625,
                    16497.556640625,
                    16508.68359375,
                    16408.474609375,
                    16517.51953125,
                    16521.234375,
                    16572.228515625,
                    16622.37109375,
                    16667.763671875,
                    16790.283203125,
                    16716.421875,
                    16914.19140625,
                    16924.05078125,
                    17093.9921875,
                    17162.990234375,
                    17337.994140625,
                    17995.203125,
                    18753.1640625,
                    19907.828125,
                    20606.986328125,
                    20715.74609375,
                    20978.533203125,
                    20541.544921875,
                    20685.380859375,
                    20919.126953125,
                    22511.833984375,
                    22387.900390625,
                    22654.3046875,
                    22549.744140625,
                    22406.076171875,
                    22911.373046875,
                    22654.59375,
                    22908.845703125,
                    22985.0703125,
                    22657.58203125,
                    22765.568359375,
                    22877.75,
                    23468.595703125,
                    23279.955078125,
                    23291.794921875,
                    22841.759765625,
                    22692.025390625,
                    22756.2578125,
                    22731.09765625,
                    21773.974609375,
                    21539.392578125,
                    21618.44921875,
                    21682.828125,
                    21460.087890625,
                    21632.39453125,
                    22082.76953125,
                    23602.5234375,
                    23460.755859375,
                    24468.373046875,
                    24327.642578125,
                    23927.91015625,
                    24200.36328125,
                    23644.318359375,
                    23693.919921875,
                    23007.072265625,
                    22861.55859375,
                    23084.220703125,
                    23205.87890625,
                    23077.650390625,
                    23088.626953125,
                    23245.021484375,
                    22213.23828125,
                    22198.98046875,
                    22307.142578125,
                    22331.314453125,
                    22011.26171875,
                    21708.05078125,
                    20210.306640625,
                    19628.25390625,
                    20068.66015625,
                    20448.806640625,
                    21918.19921875,
                    24081.18359375,
                    23964.91015625,
                    24225.111328125,
                    24955.169921875,
                    26636.26171875,
                    26907.716796875,
                    27242.880859375,
                    27439.646484375,
                    26759.99609375,
                    27183.36328125,
                    27039.265625,
                    27196.234375,
                    27445.046875,
                    26606.689453125,
                    26677.818359375,
                    27259.662109375,
                    27720.16015625,
                    27583.71484375,
                    28297.171875,
                    27884.087890625,
                    27276.720703125,
                    27681.3046875,
                    27843.763671875,
                    27738.759765625,
                    27794.03125,
                    27883.38671875,
                    27828.48046875,
                    28189.271484375,
                    29609.30078125,
                    29725.57421875,
                    29878.623046875,
                    30044.498046875,
                    30245.8828125,
                    30157.83203125,
                    29275.37109375,
                    29154.849609375,
                    28669.8984375,
                    28037.2578125,
                    27177.365234375,
                    27169.5703125,
                    27400.314453125,
                    27070.849609375,
                    27207.931640625,
                    27324.548828125,
                    28402.88671875,
                    28929.609375,
                    29088.04296875,
                    29114.021484375,
                    27680.79296875,
                    27924.123046875,
                    28178.388671875,
                    28694.0390625,
                    28845.509765625,
                    28468.966796875,
                    28441.3671875,
                    27310.134765625,
                    27375.6015625,
                    26883.669921875,
                    26781.826171875,
                    25878.4296875,
                    26710.873046875,
                    26661.35546875,
                    26766.09765625,
                    26878.947265625,
                    26600.14453125,
                    26415.1015625,
                    26700.2109375,
                    26843.27734375,
                    26706.921875,
                    26549.734375,
                    26816.1796875,
                    26106.576171875,
                    25890.59375,
                    26343.94921875,
                    26621.140625,
                    26802.751953125,
                    27563.876953125,
                    27588.501953125,
                    26866.453125,
                    26671.720703125,
                    26574.64453125,
                    26958.00390625,
                    26968.224609375,
                    25445.16796875,
                    25434.8671875,
                    26146.98828125,
                    26246.6640625,
                    26339.314453125,
                    25501.8359375,
                    25668.986328125,
                    25675.197265625,
                    25728.365234375,
                    24902.15234375,
                    24797.16796875,
                    25245.357421875,
                    26174.4921875,
                    26325.890625,
                    26312.83203125,
                    26668.791015625,
                    28283.41015625,
                    29679.158203125,
                    29845.21484375,
                    30290.146484375,
                    30327.943359375,
                    29955.744140625,
                    30236.650390625,
                    29921.822265625,
                    30057.203125,
                    29600.275390625,
                    30328.865234375,
                    30264.01953125,
                    30586.513671875,
                    30659.35546875,
                    30225.61328125,
                    29892.2265625,
                    29777.28515625,
                    30080.16015625,
                    30085.591796875,
                    29985.39453125,
                    30358.09765625,
                    30228.8359375,
                    30268.3515625,
                    29966.38671875,
                    30263.462890625,
                    30089.669921875,
                    29685.783203125,
                    29556.427734375,
                    29794.26953125,
                    29638.095703125,
                    29733.8515625,
                    29664.12109375,
                    29741.52734375,
                    28934.294921875,
                    29062.43359375,
                    29113.912109375,
                    29099.3515625,
                    29125.845703125,
                    29264.166015625,
                    29059.501953125,
                    29131.578125,
                    28657.0234375,
                    28946.509765625,
                    28959.48828125,
                    28885.3359375,
                    28957.796875,
                    28963.833984375,
                    28724.140625,
                    29113.814453125,
                    29376.80078125,
                    29354.447265625,
                    29253.517578125,
                    29357.587890625,
                    29265.806640625,
                    29124.10546875,
                    29088.853515625,
                    28701.779296875,
                    25409.111328125,
                    25668.921875,
                    25802.408203125,
                    26004.314453125,
                    25846.087890625,
                    25520.728515625,
                    25970.39453125
                  ],
                  "name": "market data",
                  "open": [
                    21526.455078125,
                    21395.458984375,
                    21596.0859375,
                    20262.48046875,
                    20041.03515625,
                    19615.154296875,
                    20298.611328125,
                    19799.58203125,
                    20050.498046875,
                    20126.072265625,
                    19969.71875,
                    19832.470703125,
                    19988.7890625,
                    19817.724609375,
                    18837.68359375,
                    19289.94140625,
                    19328.140625,
                    21376.912109375,
                    21678.54296875,
                    21770.1484375,
                    22371.48046875,
                    20184.5546875,
                    20242.2890625,
                    19704.005859375,
                    19777.033203125,
                    20127.234375,
                    19418.572265625,
                    19545.591796875,
                    18891.283203125,
                    18534.650390625,
                    19412.400390625,
                    19296.990234375,
                    18936.310546875,
                    18803.900390625,
                    19221.83984375,
                    19104.62109375,
                    19427.779296875,
                    19573.431640625,
                    19431.10546875,
                    19311.849609375,
                    19044.068359375,
                    19623.583984375,
                    20335.900390625,
                    20161.0390625,
                    19957.55859375,
                    19546.328125,
                    19417.478515625,
                    19446.416015625,
                    19139,
                    19052.646484375,
                    19156.966796875,
                    19382.533203125,
                    19185.4375,
                    19068.9140625,
                    19268.5625,
                    19550.466796875,
                    19335.02734375,
                    19138.0859375,
                    19053.203125,
                    19172.380859375,
                    19207.734375,
                    19567.76953125,
                    19344.96484375,
                    20092.236328125,
                    20772.802734375,
                    20287.95703125,
                    20595.103515625,
                    20817.982421875,
                    20633.6953125,
                    20494.8984375,
                    20482.958984375,
                    20162.689453125,
                    20208.76953125,
                    21144.83203125,
                    21285.056640625,
                    20924.62109375,
                    20600.671875,
                    18543.76171875,
                    15883.158203125,
                    17583.251953125,
                    17036.875,
                    16799.72265625,
                    16352.0283203125,
                    16617.484375,
                    16884.341796875,
                    16670.42578125,
                    16687.912109375,
                    16696.220703125,
                    16712.919921875,
                    16291.2236328125,
                    15782.30078125,
                    16195.5888671875,
                    16611.63671875,
                    16602.26953125,
                    16521.576171875,
                    16463.8828125,
                    16440.22265625,
                    16217.6396484375,
                    16445.4765625,
                    17168.001953125,
                    16968.68359375,
                    17090.09765625,
                    16908.169921875,
                    17128.89453125,
                    16975.23828125,
                    17089.505859375,
                    16847.349609375,
                    17232.1484375,
                    17134.220703125,
                    17129.7109375,
                    17102.5,
                    17206.44140625,
                    17782.06640625,
                    17813.64453125,
                    17364.546875,
                    16646.982421875,
                    16795.609375,
                    16759.041015625,
                    16441.787109375,
                    16904.52734375,
                    16818.380859375,
                    16829.64453125,
                    16796.9765625,
                    16847.505859375,
                    16842.25,
                    16919.291015625,
                    16716.400390625,
                    16552.322265625,
                    16641.330078125,
                    16603.673828125,
                    16547.9140625,
                    16625.509765625,
                    16688.84765625,
                    16680.205078125,
                    16863.47265625,
                    16836.47265625,
                    16952.1171875,
                    16954.146484375,
                    17093.9921875,
                    17192.94921875,
                    17446.359375,
                    18117.59375,
                    18868.90625,
                    19910.537109375,
                    20977.484375,
                    20882.224609375,
                    21175.833984375,
                    21161.05078125,
                    20686.74609375,
                    21085.373046875,
                    22677.427734375,
                    22777.986328125,
                    22721.087890625,
                    22929.626953125,
                    22639.267578125,
                    23108.955078125,
                    23030.716796875,
                    23079.96484375,
                    23031.44921875,
                    23774.6484375,
                    22840.796875,
                    23137.8359375,
                    23720.82421875,
                    23469.412109375,
                    23446.3203125,
                    23332.248046875,
                    22954.021484375,
                    22757.267578125,
                    23263.416015625,
                    22946.56640625,
                    21819.005859375,
                    21651.841796875,
                    21870.90234375,
                    21787,
                    21801.822265625,
                    22220.5859375,
                    24307.349609375,
                    23621.283203125,
                    24565.296875,
                    24640.02734375,
                    24336.623046875,
                    24833.048828125,
                    24437.41796875,
                    24190.71875,
                    23946.0078125,
                    23200.125,
                    23174.150390625,
                    23561.451171875,
                    23521.837890625,
                    23150.9296875,
                    23647.01953125,
                    23476.6328125,
                    22362.923828125,
                    22354.14453125,
                    22436.81640625,
                    22428.322265625,
                    22216.44140625,
                    21720.080078125,
                    20367.001953125,
                    20187.876953125,
                    20628.029296875,
                    22156.40625,
                    24201.765625,
                    24770.92578125,
                    24373.45703125,
                    25055.123046875,
                    27448.1171875,
                    26969.50390625,
                    28041.6015625,
                    27768.392578125,
                    28158.720703125,
                    27301.95703125,
                    28324.111328125,
                    27487.337890625,
                    27495.5234375,
                    27994.068359375,
                    27132.888671875,
                    27267.03125,
                    28350.140625,
                    28032.26171875,
                    28473.33203125,
                    28462.845703125,
                    28183.080078125,
                    27795.2734375,
                    28169.7265625,
                    28175.2265625,
                    28038.966796875,
                    27920.513671875,
                    27952.3671875,
                    28336.02734375,
                    29653.6796875,
                    30231.58203125,
                    29892.740234375,
                    30409.5625,
                    30490.75,
                    30315.9765625,
                    30317.146484375,
                    29449.091796875,
                    30394.1875,
                    28823.68359375,
                    28249.23046875,
                    27265.89453125,
                    27816.14453125,
                    27591.73046875,
                    27514.873046875,
                    28300.05859375,
                    28428.46484375,
                    29481.013671875,
                    29336.56640625,
                    29245.515625,
                    29227.103515625,
                    28087.17578125,
                    28680.494140625,
                    29031.3046875,
                    28851.48046875,
                    29538.859375,
                    28901.623046875,
                    28450.45703125,
                    27695.068359375,
                    27654.63671875,
                    27621.0859375,
                    26987.662109375,
                    26807.76953125,
                    26788.974609375,
                    26931.384765625,
                    27171.513671875,
                    27035.470703125,
                    27401.650390625,
                    26826.75390625,
                    26888.841796875,
                    27118.423828125,
                    26749.892578125,
                    26855.9609375,
                    27224.603515625,
                    26329.4609375,
                    26474.181640625,
                    26720.181640625,
                    26871.158203125,
                    28075.591796875,
                    27745.123046875,
                    27700.529296875,
                    27218.412109375,
                    26824.556640625,
                    27252.32421875,
                    27075.123046875,
                    27123.109375,
                    25732.109375,
                    27235.650390625,
                    26347.654296875,
                    26505.923828125,
                    26481.76171875,
                    25854.03125,
                    25934.28515625,
                    25902.94140625,
                    25920.2578125,
                    25121.673828125,
                    25575.283203125,
                    26328.6796875,
                    26510.45703125,
                    26335.44140625,
                    26841.6640625,
                    28311.310546875,
                    29995.935546875,
                    29896.3828125,
                    30708.73828125,
                    30545.150390625,
                    30480.5234375,
                    30274.3203125,
                    30696.560546875,
                    30086.1875,
                    30441.353515625,
                    30471.84765625,
                    30587.26953125,
                    30624.515625,
                    31156.865234375,
                    30778.724609375,
                    30507.150390625,
                    29907.998046875,
                    30346.921875,
                    30291.611328125,
                    30172.423828125,
                    30417.6328125,
                    30622.24609375,
                    30387.48828125,
                    31474.720703125,
                    30331.783203125,
                    30297.47265625,
                    30249.626953125,
                    30147.0703125,
                    29862.046875,
                    29915.25,
                    29805.111328125,
                    29908.697265625,
                    29790.111328125,
                    30081.662109375,
                    29178.970703125,
                    29225.759765625,
                    29353.798828125,
                    29212.1640625,
                    29319.4453125,
                    29357.09375,
                    29278.314453125,
                    29230.873046875,
                    29704.146484375,
                    29161.8125,
                    29174.3828125,
                    29075.388671875,
                    29043.701171875,
                    29038.513671875,
                    29180.01953125,
                    29766.6953125,
                    29563.97265625,
                    29424.90234375,
                    29399.787109375,
                    29416.59375,
                    29283.263671875,
                    29408.048828125,
                    29169.07421875,
                    28699.802734375,
                    26636.078125,
                    26047.83203125,
                    26096.861328125,
                    26188.69140625,
                    26130.748046875,
                    26083.5078125
                  ],
                  "type": "candlestick",
                  "x": [
                    0,
                    1,
                    2,
                    3,
                    4,
                    5,
                    6,
                    7,
                    8,
                    9,
                    10,
                    11,
                    12,
                    13,
                    14,
                    15,
                    16,
                    17,
                    18,
                    19,
                    20,
                    21,
                    22,
                    23,
                    24,
                    25,
                    26,
                    27,
                    28,
                    29,
                    30,
                    31,
                    32,
                    33,
                    34,
                    35,
                    36,
                    37,
                    38,
                    39,
                    40,
                    41,
                    42,
                    43,
                    44,
                    45,
                    46,
                    47,
                    48,
                    49,
                    50,
                    51,
                    52,
                    53,
                    54,
                    55,
                    56,
                    57,
                    58,
                    59,
                    60,
                    61,
                    62,
                    63,
                    64,
                    65,
                    66,
                    67,
                    68,
                    69,
                    70,
                    71,
                    72,
                    73,
                    74,
                    75,
                    76,
                    77,
                    78,
                    79,
                    80,
                    81,
                    82,
                    83,
                    84,
                    85,
                    86,
                    87,
                    88,
                    89,
                    90,
                    91,
                    92,
                    93,
                    94,
                    95,
                    96,
                    97,
                    98,
                    99,
                    100,
                    101,
                    102,
                    103,
                    104,
                    105,
                    106,
                    107,
                    108,
                    109,
                    110,
                    111,
                    112,
                    113,
                    114,
                    115,
                    116,
                    117,
                    118,
                    119,
                    120,
                    121,
                    122,
                    123,
                    124,
                    125,
                    126,
                    127,
                    128,
                    129,
                    130,
                    131,
                    132,
                    133,
                    134,
                    135,
                    136,
                    137,
                    138,
                    139,
                    140,
                    141,
                    142,
                    143,
                    144,
                    145,
                    146,
                    147,
                    148,
                    149,
                    150,
                    151,
                    152,
                    153,
                    154,
                    155,
                    156,
                    157,
                    158,
                    159,
                    160,
                    161,
                    162,
                    163,
                    164,
                    165,
                    166,
                    167,
                    168,
                    169,
                    170,
                    171,
                    172,
                    173,
                    174,
                    175,
                    176,
                    177,
                    178,
                    179,
                    180,
                    181,
                    182,
                    183,
                    184,
                    185,
                    186,
                    187,
                    188,
                    189,
                    190,
                    191,
                    192,
                    193,
                    194,
                    195,
                    196,
                    197,
                    198,
                    199,
                    200,
                    201,
                    202,
                    203,
                    204,
                    205,
                    206,
                    207,
                    208,
                    209,
                    210,
                    211,
                    212,
                    213,
                    214,
                    215,
                    216,
                    217,
                    218,
                    219,
                    220,
                    221,
                    222,
                    223,
                    224,
                    225,
                    226,
                    227,
                    228,
                    229,
                    230,
                    231,
                    232,
                    233,
                    234,
                    235,
                    236,
                    237,
                    238,
                    239,
                    240,
                    241,
                    242,
                    243,
                    244,
                    245,
                    246,
                    247,
                    248,
                    249,
                    250,
                    251,
                    252,
                    253,
                    254,
                    255,
                    256,
                    257,
                    258,
                    259,
                    260,
                    261,
                    262,
                    263,
                    264,
                    265,
                    266,
                    267,
                    268,
                    269,
                    270,
                    271,
                    272,
                    273,
                    274,
                    275,
                    276,
                    277,
                    278,
                    279,
                    280,
                    281,
                    282,
                    283,
                    284,
                    285,
                    286,
                    287,
                    288,
                    289,
                    290,
                    291,
                    292,
                    293,
                    294,
                    295,
                    296,
                    297,
                    298,
                    299,
                    300,
                    301,
                    302,
                    303,
                    304,
                    305,
                    306,
                    307,
                    308,
                    309,
                    310,
                    311,
                    312,
                    313,
                    314,
                    315,
                    316,
                    317,
                    318,
                    319,
                    320,
                    321,
                    322,
                    323,
                    324,
                    325,
                    326,
                    327,
                    328,
                    329,
                    330,
                    331,
                    332,
                    333,
                    334,
                    335,
                    336,
                    337,
                    338,
                    339,
                    340,
                    341,
                    342,
                    343,
                    344,
                    345,
                    346,
                    347,
                    348,
                    349,
                    350,
                    351,
                    352,
                    353,
                    354,
                    355,
                    356,
                    357,
                    358,
                    359,
                    360,
                    361,
                    362,
                    363,
                    364
                  ]
                }
              ],
              "layout": {
                "template": {
                  "data": {
                    "bar": [
                      {
                        "error_x": {
                          "color": "#2a3f5f"
                        },
                        "error_y": {
                          "color": "#2a3f5f"
                        },
                        "marker": {
                          "line": {
                            "color": "#E5ECF6",
                            "width": 0.5
                          },
                          "pattern": {
                            "fillmode": "overlay",
                            "size": 10,
                            "solidity": 0.2
                          }
                        },
                        "type": "bar"
                      }
                    ],
                    "barpolar": [
                      {
                        "marker": {
                          "line": {
                            "color": "#E5ECF6",
                            "width": 0.5
                          },
                          "pattern": {
                            "fillmode": "overlay",
                            "size": 10,
                            "solidity": 0.2
                          }
                        },
                        "type": "barpolar"
                      }
                    ],
                    "carpet": [
                      {
                        "aaxis": {
                          "endlinecolor": "#2a3f5f",
                          "gridcolor": "white",
                          "linecolor": "white",
                          "minorgridcolor": "white",
                          "startlinecolor": "#2a3f5f"
                        },
                        "baxis": {
                          "endlinecolor": "#2a3f5f",
                          "gridcolor": "white",
                          "linecolor": "white",
                          "minorgridcolor": "white",
                          "startlinecolor": "#2a3f5f"
                        },
                        "type": "carpet"
                      }
                    ],
                    "choropleth": [
                      {
                        "colorbar": {
                          "outlinewidth": 0,
                          "ticks": ""
                        },
                        "type": "choropleth"
                      }
                    ],
                    "contour": [
                      {
                        "colorbar": {
                          "outlinewidth": 0,
                          "ticks": ""
                        },
                        "colorscale": [
                          [
                            0,
                            "#0d0887"
                          ],
                          [
                            0.1111111111111111,
                            "#46039f"
                          ],
                          [
                            0.2222222222222222,
                            "#7201a8"
                          ],
                          [
                            0.3333333333333333,
                            "#9c179e"
                          ],
                          [
                            0.4444444444444444,
                            "#bd3786"
                          ],
                          [
                            0.5555555555555556,
                            "#d8576b"
                          ],
                          [
                            0.6666666666666666,
                            "#ed7953"
                          ],
                          [
                            0.7777777777777778,
                            "#fb9f3a"
                          ],
                          [
                            0.8888888888888888,
                            "#fdca26"
                          ],
                          [
                            1,
                            "#f0f921"
                          ]
                        ],
                        "type": "contour"
                      }
                    ],
                    "contourcarpet": [
                      {
                        "colorbar": {
                          "outlinewidth": 0,
                          "ticks": ""
                        },
                        "type": "contourcarpet"
                      }
                    ],
                    "heatmap": [
                      {
                        "colorbar": {
                          "outlinewidth": 0,
                          "ticks": ""
                        },
                        "colorscale": [
                          [
                            0,
                            "#0d0887"
                          ],
                          [
                            0.1111111111111111,
                            "#46039f"
                          ],
                          [
                            0.2222222222222222,
                            "#7201a8"
                          ],
                          [
                            0.3333333333333333,
                            "#9c179e"
                          ],
                          [
                            0.4444444444444444,
                            "#bd3786"
                          ],
                          [
                            0.5555555555555556,
                            "#d8576b"
                          ],
                          [
                            0.6666666666666666,
                            "#ed7953"
                          ],
                          [
                            0.7777777777777778,
                            "#fb9f3a"
                          ],
                          [
                            0.8888888888888888,
                            "#fdca26"
                          ],
                          [
                            1,
                            "#f0f921"
                          ]
                        ],
                        "type": "heatmap"
                      }
                    ],
                    "heatmapgl": [
                      {
                        "colorbar": {
                          "outlinewidth": 0,
                          "ticks": ""
                        },
                        "colorscale": [
                          [
                            0,
                            "#0d0887"
                          ],
                          [
                            0.1111111111111111,
                            "#46039f"
                          ],
                          [
                            0.2222222222222222,
                            "#7201a8"
                          ],
                          [
                            0.3333333333333333,
                            "#9c179e"
                          ],
                          [
                            0.4444444444444444,
                            "#bd3786"
                          ],
                          [
                            0.5555555555555556,
                            "#d8576b"
                          ],
                          [
                            0.6666666666666666,
                            "#ed7953"
                          ],
                          [
                            0.7777777777777778,
                            "#fb9f3a"
                          ],
                          [
                            0.8888888888888888,
                            "#fdca26"
                          ],
                          [
                            1,
                            "#f0f921"
                          ]
                        ],
                        "type": "heatmapgl"
                      }
                    ],
                    "histogram": [
                      {
                        "marker": {
                          "pattern": {
                            "fillmode": "overlay",
                            "size": 10,
                            "solidity": 0.2
                          }
                        },
                        "type": "histogram"
                      }
                    ],
                    "histogram2d": [
                      {
                        "colorbar": {
                          "outlinewidth": 0,
                          "ticks": ""
                        },
                        "colorscale": [
                          [
                            0,
                            "#0d0887"
                          ],
                          [
                            0.1111111111111111,
                            "#46039f"
                          ],
                          [
                            0.2222222222222222,
                            "#7201a8"
                          ],
                          [
                            0.3333333333333333,
                            "#9c179e"
                          ],
                          [
                            0.4444444444444444,
                            "#bd3786"
                          ],
                          [
                            0.5555555555555556,
                            "#d8576b"
                          ],
                          [
                            0.6666666666666666,
                            "#ed7953"
                          ],
                          [
                            0.7777777777777778,
                            "#fb9f3a"
                          ],
                          [
                            0.8888888888888888,
                            "#fdca26"
                          ],
                          [
                            1,
                            "#f0f921"
                          ]
                        ],
                        "type": "histogram2d"
                      }
                    ],
                    "histogram2dcontour": [
                      {
                        "colorbar": {
                          "outlinewidth": 0,
                          "ticks": ""
                        },
                        "colorscale": [
                          [
                            0,
                            "#0d0887"
                          ],
                          [
                            0.1111111111111111,
                            "#46039f"
                          ],
                          [
                            0.2222222222222222,
                            "#7201a8"
                          ],
                          [
                            0.3333333333333333,
                            "#9c179e"
                          ],
                          [
                            0.4444444444444444,
                            "#bd3786"
                          ],
                          [
                            0.5555555555555556,
                            "#d8576b"
                          ],
                          [
                            0.6666666666666666,
                            "#ed7953"
                          ],
                          [
                            0.7777777777777778,
                            "#fb9f3a"
                          ],
                          [
                            0.8888888888888888,
                            "#fdca26"
                          ],
                          [
                            1,
                            "#f0f921"
                          ]
                        ],
                        "type": "histogram2dcontour"
                      }
                    ],
                    "mesh3d": [
                      {
                        "colorbar": {
                          "outlinewidth": 0,
                          "ticks": ""
                        },
                        "type": "mesh3d"
                      }
                    ],
                    "parcoords": [
                      {
                        "line": {
                          "colorbar": {
                            "outlinewidth": 0,
                            "ticks": ""
                          }
                        },
                        "type": "parcoords"
                      }
                    ],
                    "pie": [
                      {
                        "automargin": true,
                        "type": "pie"
                      }
                    ],
                    "scatter": [
                      {
                        "fillpattern": {
                          "fillmode": "overlay",
                          "size": 10,
                          "solidity": 0.2
                        },
                        "type": "scatter"
                      }
                    ],
                    "scatter3d": [
                      {
                        "line": {
                          "colorbar": {
                            "outlinewidth": 0,
                            "ticks": ""
                          }
                        },
                        "marker": {
                          "colorbar": {
                            "outlinewidth": 0,
                            "ticks": ""
                          }
                        },
                        "type": "scatter3d"
                      }
                    ],
                    "scattercarpet": [
                      {
                        "marker": {
                          "colorbar": {
                            "outlinewidth": 0,
                            "ticks": ""
                          }
                        },
                        "type": "scattercarpet"
                      }
                    ],
                    "scattergeo": [
                      {
                        "marker": {
                          "colorbar": {
                            "outlinewidth": 0,
                            "ticks": ""
                          }
                        },
                        "type": "scattergeo"
                      }
                    ],
                    "scattergl": [
                      {
                        "marker": {
                          "colorbar": {
                            "outlinewidth": 0,
                            "ticks": ""
                          }
                        },
                        "type": "scattergl"
                      }
                    ],
                    "scattermapbox": [
                      {
                        "marker": {
                          "colorbar": {
                            "outlinewidth": 0,
                            "ticks": ""
                          }
                        },
                        "type": "scattermapbox"
                      }
                    ],
                    "scatterpolar": [
                      {
                        "marker": {
                          "colorbar": {
                            "outlinewidth": 0,
                            "ticks": ""
                          }
                        },
                        "type": "scatterpolar"
                      }
                    ],
                    "scatterpolargl": [
                      {
                        "marker": {
                          "colorbar": {
                            "outlinewidth": 0,
                            "ticks": ""
                          }
                        },
                        "type": "scatterpolargl"
                      }
                    ],
                    "scatterternary": [
                      {
                        "marker": {
                          "colorbar": {
                            "outlinewidth": 0,
                            "ticks": ""
                          }
                        },
                        "type": "scatterternary"
                      }
                    ],
                    "surface": [
                      {
                        "colorbar": {
                          "outlinewidth": 0,
                          "ticks": ""
                        },
                        "colorscale": [
                          [
                            0,
                            "#0d0887"
                          ],
                          [
                            0.1111111111111111,
                            "#46039f"
                          ],
                          [
                            0.2222222222222222,
                            "#7201a8"
                          ],
                          [
                            0.3333333333333333,
                            "#9c179e"
                          ],
                          [
                            0.4444444444444444,
                            "#bd3786"
                          ],
                          [
                            0.5555555555555556,
                            "#d8576b"
                          ],
                          [
                            0.6666666666666666,
                            "#ed7953"
                          ],
                          [
                            0.7777777777777778,
                            "#fb9f3a"
                          ],
                          [
                            0.8888888888888888,
                            "#fdca26"
                          ],
                          [
                            1,
                            "#f0f921"
                          ]
                        ],
                        "type": "surface"
                      }
                    ],
                    "table": [
                      {
                        "cells": {
                          "fill": {
                            "color": "#EBF0F8"
                          },
                          "line": {
                            "color": "white"
                          }
                        },
                        "header": {
                          "fill": {
                            "color": "#C8D4E3"
                          },
                          "line": {
                            "color": "white"
                          }
                        },
                        "type": "table"
                      }
                    ]
                  },
                  "layout": {
                    "annotationdefaults": {
                      "arrowcolor": "#2a3f5f",
                      "arrowhead": 0,
                      "arrowwidth": 1
                    },
                    "autotypenumbers": "strict",
                    "coloraxis": {
                      "colorbar": {
                        "outlinewidth": 0,
                        "ticks": ""
                      }
                    },
                    "colorscale": {
                      "diverging": [
                        [
                          0,
                          "#8e0152"
                        ],
                        [
                          0.1,
                          "#c51b7d"
                        ],
                        [
                          0.2,
                          "#de77ae"
                        ],
                        [
                          0.3,
                          "#f1b6da"
                        ],
                        [
                          0.4,
                          "#fde0ef"
                        ],
                        [
                          0.5,
                          "#f7f7f7"
                        ],
                        [
                          0.6,
                          "#e6f5d0"
                        ],
                        [
                          0.7,
                          "#b8e186"
                        ],
                        [
                          0.8,
                          "#7fbc41"
                        ],
                        [
                          0.9,
                          "#4d9221"
                        ],
                        [
                          1,
                          "#276419"
                        ]
                      ],
                      "sequential": [
                        [
                          0,
                          "#0d0887"
                        ],
                        [
                          0.1111111111111111,
                          "#46039f"
                        ],
                        [
                          0.2222222222222222,
                          "#7201a8"
                        ],
                        [
                          0.3333333333333333,
                          "#9c179e"
                        ],
                        [
                          0.4444444444444444,
                          "#bd3786"
                        ],
                        [
                          0.5555555555555556,
                          "#d8576b"
                        ],
                        [
                          0.6666666666666666,
                          "#ed7953"
                        ],
                        [
                          0.7777777777777778,
                          "#fb9f3a"
                        ],
                        [
                          0.8888888888888888,
                          "#fdca26"
                        ],
                        [
                          1,
                          "#f0f921"
                        ]
                      ],
                      "sequentialminus": [
                        [
                          0,
                          "#0d0887"
                        ],
                        [
                          0.1111111111111111,
                          "#46039f"
                        ],
                        [
                          0.2222222222222222,
                          "#7201a8"
                        ],
                        [
                          0.3333333333333333,
                          "#9c179e"
                        ],
                        [
                          0.4444444444444444,
                          "#bd3786"
                        ],
                        [
                          0.5555555555555556,
                          "#d8576b"
                        ],
                        [
                          0.6666666666666666,
                          "#ed7953"
                        ],
                        [
                          0.7777777777777778,
                          "#fb9f3a"
                        ],
                        [
                          0.8888888888888888,
                          "#fdca26"
                        ],
                        [
                          1,
                          "#f0f921"
                        ]
                      ]
                    },
                    "colorway": [
                      "#636efa",
                      "#EF553B",
                      "#00cc96",
                      "#ab63fa",
                      "#FFA15A",
                      "#19d3f3",
                      "#FF6692",
                      "#B6E880",
                      "#FF97FF",
                      "#FECB52"
                    ],
                    "font": {
                      "color": "#2a3f5f"
                    },
                    "geo": {
                      "bgcolor": "white",
                      "lakecolor": "white",
                      "landcolor": "#E5ECF6",
                      "showlakes": true,
                      "showland": true,
                      "subunitcolor": "white"
                    },
                    "hoverlabel": {
                      "align": "left"
                    },
                    "hovermode": "closest",
                    "mapbox": {
                      "style": "light"
                    },
                    "paper_bgcolor": "white",
                    "plot_bgcolor": "#E5ECF6",
                    "polar": {
                      "angularaxis": {
                        "gridcolor": "white",
                        "linecolor": "white",
                        "ticks": ""
                      },
                      "bgcolor": "#E5ECF6",
                      "radialaxis": {
                        "gridcolor": "white",
                        "linecolor": "white",
                        "ticks": ""
                      }
                    },
                    "scene": {
                      "xaxis": {
                        "backgroundcolor": "#E5ECF6",
                        "gridcolor": "white",
                        "gridwidth": 2,
                        "linecolor": "white",
                        "showbackground": true,
                        "ticks": "",
                        "zerolinecolor": "white"
                      },
                      "yaxis": {
                        "backgroundcolor": "#E5ECF6",
                        "gridcolor": "white",
                        "gridwidth": 2,
                        "linecolor": "white",
                        "showbackground": true,
                        "ticks": "",
                        "zerolinecolor": "white"
                      },
                      "zaxis": {
                        "backgroundcolor": "#E5ECF6",
                        "gridcolor": "white",
                        "gridwidth": 2,
                        "linecolor": "white",
                        "showbackground": true,
                        "ticks": "",
                        "zerolinecolor": "white"
                      }
                    },
                    "shapedefaults": {
                      "line": {
                        "color": "#2a3f5f"
                      }
                    },
                    "ternary": {
                      "aaxis": {
                        "gridcolor": "white",
                        "linecolor": "white",
                        "ticks": ""
                      },
                      "baxis": {
                        "gridcolor": "white",
                        "linecolor": "white",
                        "ticks": ""
                      },
                      "bgcolor": "#E5ECF6",
                      "caxis": {
                        "gridcolor": "white",
                        "linecolor": "white",
                        "ticks": ""
                      }
                    },
                    "title": {
                      "x": 0.05
                    },
                    "xaxis": {
                      "automargin": true,
                      "gridcolor": "white",
                      "linecolor": "white",
                      "ticks": "",
                      "title": {
                        "standoff": 15
                      },
                      "zerolinecolor": "white",
                      "zerolinewidth": 2
                    },
                    "yaxis": {
                      "automargin": true,
                      "gridcolor": "white",
                      "linecolor": "white",
                      "ticks": "",
                      "title": {
                        "standoff": 15
                      },
                      "zerolinecolor": "white",
                      "zerolinewidth": 2
                    }
                  }
                }
              }
            }
          },
          "metadata": {},
          "output_type": "display_data"
        }
      ],
      "source": [
        "fig = go.Figure()\n",
        "\n",
        "#Candlestick\n",
        "fig.add_trace(go.Candlestick(x=data.index,\n",
        "                open=data['Open'],\n",
        "                high=data['High'],\n",
        "                low=data['Low'],\n",
        "                close=data['Close'], name = 'market data'))"
      ]
    },
    {
      "cell_type": "code",
      "execution_count": 5,
      "metadata": {
        "id": "OVqWCdPg4Uga"
      },
      "outputs": [],
      "source": [
        "data.dropna(inplace=True)\n",
        "data.drop_duplicates(inplace=True)\n",
        "from sklearn.preprocessing import MinMaxScaler\n",
        "scaler = MinMaxScaler()\n",
        "data['Close'] = scaler.fit_transform(np.array(data['Close']).reshape(-1, 1))"
      ]
    },
    {
      "cell_type": "code",
      "execution_count": 6,
      "metadata": {
        "colab": {
          "base_uri": "https://localhost:8080/"
        },
        "id": "id7Q0fMc8ml9",
        "outputId": "6221bd29-cb06-4939-caa6-52309196d3f2"
      },
      "outputs": [
        {
          "name": "stdout",
          "output_type": "stream",
          "text": [
            "          Date          Open          High           Low     Close  \\\n",
            "0   2022-08-24  21526.455078  21783.076172  21195.005859  0.357436   \n",
            "1   2022-08-25  21395.458984  21789.636719  21362.441406  0.370559   \n",
            "2   2022-08-26  21596.085938  21804.908203  20199.482422  0.285092   \n",
            "3   2022-08-27  20262.480469  20340.775391  19890.523438  0.271178   \n",
            "4   2022-08-28  20041.035156  20139.054688  19616.814453  0.244094   \n",
            "..         ...           ...           ...           ...       ...   \n",
            "360 2023-08-19  26047.832031  26249.449219  25802.408203  0.657089   \n",
            "361 2023-08-20  26096.861328  26260.681641  26004.314453  0.663041   \n",
            "362 2023-08-21  26188.691406  26220.201172  25846.087891  0.658870   \n",
            "363 2023-08-22  26130.748047  26135.507812  25520.728516  0.652975   \n",
            "364 2023-08-23  26083.507812  26143.343750  25970.394531  0.652502   \n",
            "\n",
            "        Adj Close       Volume  \n",
            "0    21395.019531  31962253368  \n",
            "1    21600.904297  31028679593  \n",
            "2    20260.019531  42326789564  \n",
            "3    20041.738281  30116729776  \n",
            "4    19616.814453  24366810591  \n",
            "..            ...          ...  \n",
            "360  26096.205078  10631443812  \n",
            "361  26189.583984   9036580420  \n",
            "362  26124.140625  13371557893  \n",
            "363  26031.656250  14503820706  \n",
            "364  26024.242188  15810024448  \n",
            "\n",
            "[365 rows x 7 columns]\n"
          ]
        }
      ],
      "source": [
        "print(data)"
      ]
    },
    {
      "cell_type": "code",
      "execution_count": 7,
      "metadata": {
        "colab": {
          "base_uri": "https://localhost:8080/",
          "height": 718
        },
        "id": "gJK4_Kn19FQa",
        "outputId": "bfd4aacf-c15d-4856-f2dc-1951d44b9b1a"
      },
      "outputs": [
        {
          "data": {
            "image/png": "[encoded data removed]",
            "text/plain": [
              "<Figure size 1200x800 with 1 Axes>"
            ]
          },
          "metadata": {},
          "output_type": "display_data"
        }
      ],
      "source": [
        "plt.figure(figsize=(12, 8))\n",
        "plt.plot(data.index, data['Close'])\n",
        "plt.xlabel('Date')\n",
        "plt.ylabel('Price')\n",
        "plt.title('Bitcoin Price')\n",
        "plt.show()"
      ]
    },
    {
      "cell_type": "code",
      "execution_count": 8,
      "metadata": {
        "colab": {
          "base_uri": "https://localhost:8080/"
        },
        "id": "uDohIayX-K3j",
        "outputId": "bc604c3f-865f-49dd-c410-432ae94fb3dd"
      },
      "outputs": [
        {
          "name": "stdout",
          "output_type": "stream",
          "text": [
            "295    0.623957\n",
            "63     0.317626\n",
            "241    0.766805\n",
            "306    0.923199\n",
            "317    0.927733\n",
            "         ...   \n",
            "323    1.000000\n",
            "192    0.418520\n",
            "117    0.041584\n",
            "47     0.213796\n",
            "172    0.382498\n",
            "Name: Close, Length: 292, dtype: float64\n"
          ]
        }
      ],
      "source": [
        "from sklearn.model_selection import train_test_split\n",
        "\n",
        "# Split the data into training and testing sets\n",
        "y = data['Close']\n",
        "X = data.drop(['Date', 'Close'], axis=1)\n",
        " # Target variable\n",
        "X_train, X_test, y_train, y_test = train_test_split(X, y, test_size=0.2, random_state=0)\n",
        "# Check the shape of the datasets\n",
        "print(y_train)"
      ]
    },
    {
      "cell_type": "markdown",
      "metadata": {
        "id": "r5mA6n8i-m27"
      },
      "source": [
        "**using a linear regeression model to predict**"
      ]
    },
    {
      "cell_type": "code",
      "execution_count": 10,
      "metadata": {
        "colab": {
          "base_uri": "https://localhost:8080/"
        },
        "id": "DmeHGTJj-1Nb",
        "outputId": "71387be5-c273-4f0c-ac33-b4a04dfaa34a"
      },
      "outputs": [
        {
          "name": "stdout",
          "output_type": "stream",
          "text": [
            "Accuracy score:  0.5616438356164384\n"
          ]
        }
      ],
      "source": [
        "from sklearn.linear_model import LinearRegression\n",
        "\n",
        "# Create a linear regression object\n",
        "lr = LinearRegression()\n",
        "\n",
        "# Train the model on the training set\n",
        "lr.fit(X_train, y_train)\n",
        "\n",
        "# Make predictions on the testing set\n",
        "y_pred = lr.predict(X_test)\n",
        "# print(y_pred)\n",
        "\n",
        "# Evaluate the model's performance\n",
        "from sklearn.metrics import  accuracy_score \n",
        "# print(y_test)\n",
        "y_pred_binary = np.where(y_pred > y_test, 1, 0)\n",
        "\n",
        "# Convert the actual values to binary labels\n",
        "y_test_binary = np.where(y_test > y_test.shift(1), 1, 0)\n",
        "\n",
        "# Calculate the accuracy score\n",
        "accuracy = accuracy_score(y_test_binary, y_pred_binary)\n",
        "print(\"Accuracy score: \", accuracy)\n",
        "\n"
      ]
    },
    {
      "cell_type": "code",
      "execution_count": 11,
      "metadata": {
        "colab": {
          "base_uri": "https://localhost:8080/",
          "height": 75
        },
        "id": "Xn0XfKUtpAEa",
        "outputId": "55066038-0514-44b3-c955-38358bd75c12"
      },
      "outputs": [
        {
          "data": {
            "text/html": [
              "<style>#sk-container-id-1 {color: black;}#sk-container-id-1 pre{padding: 0;}#sk-container-id-1 div.sk-toggleable {background-color: white;}#sk-container-id-1 label.sk-toggleable__label {cursor: pointer;display: block;width: 100%;margin-bottom: 0;padding: 0.3em;box-sizing: border-box;text-align: center;}#sk-container-id-1 label.sk-toggleable__label-arrow:before {content: \"▸\";float: left;margin-right: 0.25em;color: #696969;}#sk-container-id-1 label.sk-toggleable__label-arrow:hover:before {color: black;}#sk-container-id-1 div.sk-estimator:hover label.sk-toggleable__label-arrow:before {color: black;}#sk-container-id-1 div.sk-toggleable__content {max-height: 0;max-width: 0;overflow: hidden;text-align: left;background-color: #f0f8ff;}#sk-container-id-1 div.sk-toggleable__content pre {margin: 0.2em;color: black;border-radius: 0.25em;background-color: #f0f8ff;}#sk-container-id-1 input.sk-toggleable__control:checked~div.sk-toggleable__content {max-height: 200px;max-width: 100%;overflow: auto;}#sk-container-id-1 input.sk-toggleable__control:checked~label.sk-toggleable__label-arrow:before {content: \"▾\";}#sk-container-id-1 div.sk-estimator input.sk-toggleable__control:checked~label.sk-toggleable__label {background-color: #d4ebff;}#sk-container-id-1 div.sk-label input.sk-toggleable__control:checked~label.sk-toggleable__label {background-color: #d4ebff;}#sk-container-id-1 input.sk-hidden--visually {border: 0;clip: rect(1px 1px 1px 1px);clip: rect(1px, 1px, 1px, 1px);height: 1px;margin: -1px;overflow: hidden;padding: 0;position: absolute;width: 1px;}#sk-container-id-1 div.sk-estimator {font-family: monospace;background-color: #f0f8ff;border: 1px dotted black;border-radius: 0.25em;box-sizing: border-box;margin-bottom: 0.5em;}#sk-container-id-1 div.sk-estimator:hover {background-color: #d4ebff;}#sk-container-id-1 div.sk-parallel-item::after {content: \"\";width: 100%;border-bottom: 1px solid gray;flex-grow: 1;}#sk-container-id-1 div.sk-label:hover label.sk-toggleable__label {background-color: #d4ebff;}#sk-container-id-1 div.sk-serial::before {content: \"\";position: absolute;border-left: 1px solid gray;box-sizing: border-box;top: 0;bottom: 0;left: 50%;z-index: 0;}#sk-container-id-1 div.sk-serial {display: flex;flex-direction: column;align-items: center;background-color: white;padding-right: 0.2em;padding-left: 0.2em;position: relative;}#sk-container-id-1 div.sk-item {position: relative;z-index: 1;}#sk-container-id-1 div.sk-parallel {display: flex;align-items: stretch;justify-content: center;background-color: white;position: relative;}#sk-container-id-1 div.sk-item::before, #sk-container-id-1 div.sk-parallel-item::before {content: \"\";position: absolute;border-left: 1px solid gray;box-sizing: border-box;top: 0;bottom: 0;left: 50%;z-index: -1;}#sk-container-id-1 div.sk-parallel-item {display: flex;flex-direction: column;z-index: 1;position: relative;background-color: white;}#sk-container-id-1 div.sk-parallel-item:first-child::after {align-self: flex-end;width: 50%;}#sk-container-id-1 div.sk-parallel-item:last-child::after {align-self: flex-start;width: 50%;}#sk-container-id-1 div.sk-parallel-item:only-child::after {width: 0;}#sk-container-id-1 div.sk-dashed-wrapped {border: 1px dashed gray;margin: 0 0.4em 0.5em 0.4em;box-sizing: border-box;padding-bottom: 0.4em;background-color: white;}#sk-container-id-1 div.sk-label label {font-family: monospace;font-weight: bold;display: inline-block;line-height: 1.2em;}#sk-container-id-1 div.sk-label-container {text-align: center;}#sk-container-id-1 div.sk-container {/* jupyter's `normalize.less` sets `[hidden] { display: none; }` but bootstrap.min.css set `[hidden] { display: none !important; }` so we also need the `!important` here to be able to override the default hidden behavior on the sphinx rendered scikit-learn.org. See: https://github.com/scikit-learn/scikit-learn/issues/21755 */display: inline-block !important;position: relative;}#sk-container-id-1 div.sk-text-repr-fallback {display: none;}</style><div id=\"sk-container-id-1\" class=\"sk-top-container\"><div class=\"sk-text-repr-fallback\"><pre>RandomForestRegressor(random_state=0)</pre><b>In a Jupyter environment, please rerun this cell to show the HTML representation or trust the notebook. <br />On GitHub, the HTML representation is unable to render, please try loading this page with nbviewer.org.</b></div><div class=\"sk-container\" hidden><div class=\"sk-item\"><div class=\"sk-estimator sk-toggleable\"><input class=\"sk-toggleable__control sk-hidden--visually\" id=\"sk-estimator-id-1\" type=\"checkbox\" checked><label for=\"sk-estimator-id-1\" class=\"sk-toggleable__label sk-toggleable__label-arrow\">RandomForestRegressor</label><div class=\"sk-toggleable__content\"><pre>RandomForestRegressor(random_state=0)</pre></div></div></div></div></div>"
            ],
            "text/plain": [
              "RandomForestRegressor(random_state=0)"
            ]
          },
          "execution_count": 11,
          "metadata": {},
          "output_type": "execute_result"
        }
      ],
      "source": [
        "n = len(X_train)\n",
        "sample_weights = np.ones(n)\n",
        "sample_weights[-100:] = 2.0  # set higher weights for the last 100 data points\n",
        "\n",
        "rf = RandomForestRegressor(n_estimators=100, random_state=0)\n",
        "rf.fit(X_train, y_train, sample_weight=sample_weights)"
      ]
    },
    {
      "cell_type": "code",
      "execution_count": 12,
      "metadata": {
        "colab": {
          "base_uri": "https://localhost:8080/"
        },
        "id": "zW18Xz2xjHHM",
        "outputId": "a2825e15-a064-4258-e01c-bb829d6fa41b"
      },
      "outputs": [
        {
          "name": "stdout",
          "output_type": "stream",
          "text": [
            "Accuracy: 99.95811474973242 %\n"
          ]
        }
      ],
      "source": [
        "accuracy = rf.score(X_test, y_test) * 100\n",
        "print('Accuracy:', accuracy, '%')"
      ]
    },
    {
      "cell_type": "code",
      "execution_count": 13,
      "metadata": {
        "colab": {
          "base_uri": "https://localhost:8080/"
        },
        "id": "G3C1IzwHjSj-",
        "outputId": "6177ffe6-77e9-4fc3-f16f-c293c96d1979"
      },
      "outputs": [
        {
          "name": "stdout",
          "output_type": "stream",
          "text": [
            "[0.08837713 0.75139429 0.2326315  0.23833625 0.10481766 0.84433243\n",
            " 0.02732591 0.94566926 0.80144577 0.25676515 0.06666854 0.17419308\n",
            " 0.70691788 0.72701307 0.70234727 0.73162255 0.62223937 0.07183131\n",
            " 0.79045006 0.11875164 0.26357553 0.30620174 0.21709522 0.64630585\n",
            " 0.90121908 0.87310257 0.29860169 0.89262375 0.10945928 0.43110806\n",
            " 0.07088827 0.08558654 0.2249015  0.23235594 0.24065699 0.28522531\n",
            " 0.24101452 0.05787831 0.7286533  0.28719509 0.71368294 0.95361961\n",
            " 0.75055021 0.71827579 0.29467956 0.94002442 0.74934164 0.78027479\n",
            " 0.73508939 0.3038083  0.3838276  0.8083047  0.92609289 0.48072601\n",
            " 0.05326858 0.22595168 0.20832478 0.07334892 0.02429075 0.16631974\n",
            " 0.92265594 0.70197335 0.27170835 0.08407182 0.91376216 0.88459193\n",
            " 0.21346484 0.06703972 0.80241069 0.44802116 0.3323082  0.37860389\n",
            " 0.05637819]\n"
          ]
        }
      ],
      "source": [
        "predictions = rf.predict(X_test)\n",
        "print(predictions)\n"
      ]
    }
  ],
  "metadata": {
    "colab": {
      "provenance": []
    },
    "kernelspec": {
      "display_name": "Python 3",
      "name": "python3"
    },
    "language_info": {
      "codemirror_mode": {
        "name": "ipython",
        "version": 3
      },
      "file_extension": ".py",
      "mimetype": "text/x-python",
      "name": "python",
      "nbconvert_exporter": "python",
      "pygments_lexer": "ipython3",
      "version": "3.11.1"
    }
  },
  "nbformat": 4,
  "nbformat_minor": 0
}
